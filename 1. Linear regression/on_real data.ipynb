{
 "cells": [
  {
   "cell_type": "code",
   "execution_count": 108,
   "id": "9d263296-2ff2-4e82-97c7-f92f1d7ed1fa",
   "metadata": {},
   "outputs": [],
   "source": [
    "import pandas as pd\n",
    "import numpy as np\n",
    "import torch\n",
    "import torch.nn as nn\n",
    "import torch.optim as optim\n",
    "from sklearn.model_selection import train_test_split\n",
    "import matplotlib.pyplot as plt"
   ]
  },
  {
   "cell_type": "code",
   "execution_count": 110,
   "id": "ec646bc7-dda9-4e5c-b404-c57f8f32b7b4",
   "metadata": {},
   "outputs": [
    {
     "data": {
      "text/html": [
       "<div>\n",
       "<style scoped>\n",
       "    .dataframe tbody tr th:only-of-type {\n",
       "        vertical-align: middle;\n",
       "    }\n",
       "\n",
       "    .dataframe tbody tr th {\n",
       "        vertical-align: top;\n",
       "    }\n",
       "\n",
       "    .dataframe thead th {\n",
       "        text-align: right;\n",
       "    }\n",
       "</style>\n",
       "<table border=\"1\" class=\"dataframe\">\n",
       "  <thead>\n",
       "    <tr style=\"text-align: right;\">\n",
       "      <th></th>\n",
       "      <th>cgpa</th>\n",
       "      <th>package</th>\n",
       "    </tr>\n",
       "  </thead>\n",
       "  <tbody>\n",
       "    <tr>\n",
       "      <th>0</th>\n",
       "      <td>6.89</td>\n",
       "      <td>3.26</td>\n",
       "    </tr>\n",
       "    <tr>\n",
       "      <th>1</th>\n",
       "      <td>5.12</td>\n",
       "      <td>1.98</td>\n",
       "    </tr>\n",
       "    <tr>\n",
       "      <th>2</th>\n",
       "      <td>7.82</td>\n",
       "      <td>3.25</td>\n",
       "    </tr>\n",
       "    <tr>\n",
       "      <th>3</th>\n",
       "      <td>7.42</td>\n",
       "      <td>3.67</td>\n",
       "    </tr>\n",
       "    <tr>\n",
       "      <th>4</th>\n",
       "      <td>6.94</td>\n",
       "      <td>3.57</td>\n",
       "    </tr>\n",
       "    <tr>\n",
       "      <th>...</th>\n",
       "      <td>...</td>\n",
       "      <td>...</td>\n",
       "    </tr>\n",
       "    <tr>\n",
       "      <th>195</th>\n",
       "      <td>6.93</td>\n",
       "      <td>2.46</td>\n",
       "    </tr>\n",
       "    <tr>\n",
       "      <th>196</th>\n",
       "      <td>5.89</td>\n",
       "      <td>2.57</td>\n",
       "    </tr>\n",
       "    <tr>\n",
       "      <th>197</th>\n",
       "      <td>7.21</td>\n",
       "      <td>3.24</td>\n",
       "    </tr>\n",
       "    <tr>\n",
       "      <th>198</th>\n",
       "      <td>7.63</td>\n",
       "      <td>3.96</td>\n",
       "    </tr>\n",
       "    <tr>\n",
       "      <th>199</th>\n",
       "      <td>6.22</td>\n",
       "      <td>2.33</td>\n",
       "    </tr>\n",
       "  </tbody>\n",
       "</table>\n",
       "<p>200 rows × 2 columns</p>\n",
       "</div>"
      ],
      "text/plain": [
       "     cgpa  package\n",
       "0    6.89     3.26\n",
       "1    5.12     1.98\n",
       "2    7.82     3.25\n",
       "3    7.42     3.67\n",
       "4    6.94     3.57\n",
       "..    ...      ...\n",
       "195  6.93     2.46\n",
       "196  5.89     2.57\n",
       "197  7.21     3.24\n",
       "198  7.63     3.96\n",
       "199  6.22     2.33\n",
       "\n",
       "[200 rows x 2 columns]"
      ]
     },
     "execution_count": 110,
     "metadata": {},
     "output_type": "execute_result"
    }
   ],
   "source": [
    "df = pd.read_csv(r'placement.csv')\n",
    "df"
   ]
  },
  {
   "cell_type": "code",
   "execution_count": 111,
   "id": "1c5d9ce8-9ca0-4dbb-97bb-2c435fe8a11a",
   "metadata": {},
   "outputs": [],
   "source": [
    "x = df['cgpa'].values\n",
    "y = df['package'].values"
   ]
  },
  {
   "cell_type": "code",
   "execution_count": 114,
   "id": "ab0bd1db-2b55-4127-9f53-2f83c0738e75",
   "metadata": {},
   "outputs": [],
   "source": [
    "# convert into array\n",
    "\n",
    "x_numpy = x.astype(float)\n",
    "y_numpy = y.astype(float)\n",
    "\n",
    "# Convert to PyTorch tensors \n",
    "x_tensor = torch.tensor(x, dtype=torch.float32).view(-1, 1) \n",
    "y_tensor = torch.tensor(y, dtype=torch.float32).view(-1, 1)"
   ]
  },
  {
   "cell_type": "code",
   "execution_count": 116,
   "id": "4d415d5c-bdd7-4b35-8a3a-c09e5c7bf82c",
   "metadata": {},
   "outputs": [],
   "source": [
    "x_train, x_test, y_train, y_test = train_test_split(x_tensor, y_tensor, test_size=0.2, random_state= 42)"
   ]
  },
  {
   "cell_type": "markdown",
   "id": "4343c0ee-ae71-4f6a-bc99-2ed0ba2b3970",
   "metadata": {},
   "source": [
    "# model :"
   ]
  },
  {
   "cell_type": "code",
   "execution_count": 119,
   "id": "7f06cfd5-e436-4f59-92d5-f87bea17f19d",
   "metadata": {},
   "outputs": [],
   "source": [
    "class SimpleLinear(nn.Module):\n",
    "    def __init__(self, no_features, of_ouput):\n",
    "        super().__init__()\n",
    "\n",
    "        self.linear = nn.Linear(no_features, 1)\n",
    "\n",
    "    # forward pass\n",
    "    def forward(self, x):\n",
    "        return self.linear(x)\n",
    "    "
   ]
  },
  {
   "cell_type": "code",
   "execution_count": 121,
   "id": "4d2c1aad-73cf-4eea-9c5e-4d4f2902bb78",
   "metadata": {},
   "outputs": [],
   "source": [
    "# model call\n",
    "\n",
    "model = SimpleLinear(x_train.shape[1], y_train.shape[1])"
   ]
  },
  {
   "cell_type": "code",
   "execution_count": 134,
   "id": "120c21eb-17d4-4336-addf-bc286cc2c9e5",
   "metadata": {},
   "outputs": [],
   "source": [
    "# important params\n",
    "\n",
    "epochs = 1000\n",
    "criterion = nn.MSELoss()\n",
    "\n",
    "# optimizer\n",
    "learning_rate = 0.01\n",
    "optimizer = optim.SGD(model.parameters(), lr= learning_rate)\n"
   ]
  },
  {
   "cell_type": "code",
   "execution_count": 136,
   "id": "71716daf-f6a0-4209-8247-b4e34b53150d",
   "metadata": {},
   "outputs": [
    {
     "name": "stdout",
     "output_type": "stream",
     "text": [
      "Epoch [100/1000], Loss: 0.1446\n",
      "Epoch [200/1000], Loss: 0.1418\n",
      "Epoch [300/1000], Loss: 0.1392\n",
      "Epoch [400/1000], Loss: 0.1369\n",
      "Epoch [500/1000], Loss: 0.1348\n",
      "Epoch [600/1000], Loss: 0.1328\n",
      "Epoch [700/1000], Loss: 0.1310\n",
      "Epoch [800/1000], Loss: 0.1294\n",
      "Epoch [900/1000], Loss: 0.1279\n",
      "Epoch [1000/1000], Loss: 0.1266\n"
     ]
    }
   ],
   "source": [
    "for epoch in range(epochs):\n",
    "\n",
    "    # forward pass\n",
    "    y_pred = model(x_train)\n",
    "\n",
    "    # loss \n",
    "    loss = criterion(y_pred, y_train)\n",
    "\n",
    "    #zero grad\n",
    "    optimizer.zero_grad()\n",
    "\n",
    "    # backward pass\n",
    "    loss.backward()\n",
    "\n",
    "    # weight updates\n",
    "    optimizer.step()\n",
    "\n",
    "    if (epoch+1) % 100 == 0: \n",
    "        print(f'Epoch [{epoch+1}/{epochs}], Loss: {loss.item():.4f}')"
   ]
  },
  {
   "cell_type": "markdown",
   "id": "68ac2e3c-51c1-4688-9c9d-db7ef7fd0c3b",
   "metadata": {},
   "source": [
    "---\n",
    "# testing:"
   ]
  },
  {
   "cell_type": "code",
   "execution_count": 139,
   "id": "4a9a7f37-6156-4fc7-b759-fa1806663943",
   "metadata": {},
   "outputs": [
    {
     "data": {
      "text/plain": [
       "SimpleLinear(\n",
       "  (linear): Linear(in_features=1, out_features=1, bias=True)\n",
       ")"
      ]
     },
     "execution_count": 139,
     "metadata": {},
     "output_type": "execute_result"
    }
   ],
   "source": [
    "model.eval()"
   ]
  },
  {
   "cell_type": "code",
   "execution_count": 141,
   "id": "7c5eea56-04ce-4451-81be-dda90412d881",
   "metadata": {},
   "outputs": [
    {
     "name": "stdout",
     "output_type": "stream",
     "text": [
      "Test Loss: 0.0885\n"
     ]
    }
   ],
   "source": [
    "with torch.no_grad():\n",
    "    y_pred = model(x_test)\n",
    "    test_loss = criterion(y_pred, y_test)\n",
    "    print(f'Test Loss: {test_loss.item():.4f}')"
   ]
  },
  {
   "cell_type": "code",
   "execution_count": 143,
   "id": "2e71e14b-eb73-4f5f-bf53-dffc205daf3f",
   "metadata": {},
   "outputs": [
    {
     "data": {
      "image/png": "[encoded data removed]",
      "text/plain": [
       "<Figure size 640x480 with 1 Axes>"
      ]
     },
     "metadata": {},
     "output_type": "display_data"
    }
   ],
   "source": [
    "predicted = model(x_tensor).detach().numpy()\n",
    "\n",
    "plt.plot(x, y, 'ro', label='Original data')\n",
    "plt.plot(x, predicted, label='Fitted line')\n",
    "plt.legend()\n",
    "plt.show()"
   ]
  },
  {
   "cell_type": "code",
   "execution_count": null,
   "id": "38b37f23-e0e6-4a40-a2b1-c7959891d70d",
   "metadata": {},
   "outputs": [],
   "source": []
  }
 ],
 "metadata": {
  "kernelspec": {
   "display_name": "Python 3 (ipykernel)",
   "language": "python",
   "name": "python3"
  },
  "language_info": {
   "codemirror_mode": {
    "name": "ipython",
    "version": 3
   },
   "file_extension": ".py",
   "mimetype": "text/x-python",
   "name": "python",
   "nbconvert_exporter": "python",
   "pygments_lexer": "ipython3",
   "version": "3.12.4"
  }
 },
 "nbformat": 4,
 "nbformat_minor": 5
}
