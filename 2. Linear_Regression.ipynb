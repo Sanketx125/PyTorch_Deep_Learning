{
 "cells": [
  {
   "cell_type": "markdown",
   "id": "7e667bc7-d96a-4ad2-86c6-2002c1dfa989",
   "metadata": {},
   "source": [
    "# Linear Regression:\n",
    "\n",
    "#### Steps :\n",
    "          1. Design Model (input, Output_size, Forward Pass)\n",
    "          2. Construct Loss & Optimizer\n",
    "          3. Training Loop:\n",
    "                       - Forward pass (comput prediction)\n",
    "                       - backward pass (gradients)\n",
    "                       - updates weights"
   ]
  },
  {
   "cell_type": "code",
   "execution_count": 44,
   "id": "0411c542-98e5-420b-a3c9-45730c710f29",
   "metadata": {},
   "outputs": [],
   "source": [
    "import torch\n",
    "import torch.nn as nn\n",
    "import numpy as np\n",
    "from sklearn import datasets\n",
    "import matplotlib.pyplot as plt"
   ]
  },
  {
   "cell_type": "markdown",
   "id": "c7c4eefe-f2d7-4601-8b0a-2a3ee08c4ad3",
   "metadata": {},
   "source": [
    "## 1. Preparing Dataset:"
   ]
  },
  {
   "cell_type": "code",
   "execution_count": 47,
   "id": "c6a0b98b-c3d7-4b7e-ba9a-57cec51d88ca",
   "metadata": {},
   "outputs": [],
   "source": [
    "# generating regression dataset\n",
    "x_numpy, y_numpy = datasets.make_regression(n_samples= 100, n_features= 1, noise= 10, random_state= 1)"
   ]
  },
  {
   "cell_type": "code",
   "execution_count": 72,
   "id": "9ba68f48-788a-41e8-8f89-acaafacd97e2",
   "metadata": {},
   "outputs": [],
   "source": [
    "# converting arrays into tensor:\n",
    "\n",
    "x = torch.from_numpy(x_numpy.astype(np.float32))\n",
    "\n",
    "y = torch.from_numpy(y_numpy.astype(np.float32))\n"
   ]
  },
  {
   "cell_type": "code",
   "execution_count": 76,
   "id": "95a9aca3-d32f-4d90-acf3-18badc255056",
   "metadata": {},
   "outputs": [
    {
     "data": {
      "text/plain": [
       "tensor([[ -52.4569],\n",
       "        [ -15.3944],\n",
       "        [  31.0930],\n",
       "        [  81.2992],\n",
       "        [ 133.5014],\n",
       "        [  31.8811],\n",
       "        [  37.2071],\n",
       "        [ -40.0318],\n",
       "        [-106.1755],\n",
       "        [  24.6391],\n",
       "        [ -48.5005],\n",
       "        [ -20.1805],\n",
       "        [ -92.0735],\n",
       "        [  54.5579],\n",
       "        [ -88.0327],\n",
       "        [  67.2478],\n",
       "        [  -9.8930],\n",
       "        [ -41.9358],\n",
       "        [ -59.7349],\n",
       "        [ -70.5248],\n",
       "        [ -26.7745],\n",
       "        [ 177.6170],\n",
       "        [  67.4657],\n",
       "        [  21.3366],\n",
       "        [ -24.7716],\n",
       "        [ -48.3415],\n",
       "        [   2.4783],\n",
       "        [  45.8005],\n",
       "        [ 108.5522],\n",
       "        [ -62.7538],\n",
       "        [ -27.0635],\n",
       "        [ -66.2615],\n",
       "        [  16.8885],\n",
       "        [  72.8929],\n",
       "        [  92.4590],\n",
       "        [ -31.7070],\n",
       "        [ -42.0576],\n",
       "        [ 158.7180],\n",
       "        [-189.1667],\n",
       "        [  71.8265],\n",
       "        [ 167.5173],\n",
       "        [ 111.5039],\n",
       "        [ -69.3254],\n",
       "        [ -64.8109],\n",
       "        [ -33.7991],\n",
       "        [  72.3437],\n",
       "        [  26.9415],\n",
       "        [  85.8982],\n",
       "        [ -29.5417],\n",
       "        [  37.3953],\n",
       "        [ -29.2874],\n",
       "        [  12.0264],\n",
       "        [  63.3415],\n",
       "        [  26.4395],\n",
       "        [ -47.6558],\n",
       "        [  61.5719],\n",
       "        [  96.1481],\n",
       "        [  -6.3211],\n",
       "        [  21.4569],\n",
       "        [  58.1930],\n",
       "        [  42.3354],\n",
       "        [   3.7539],\n",
       "        [ -44.0467],\n",
       "        [  36.9612],\n",
       "        [  30.1642],\n",
       "        [ -83.9076],\n",
       "        [  17.3283],\n",
       "        [ -73.5637],\n",
       "        [ -34.9721],\n",
       "        [ -83.4436],\n",
       "        [-117.4467],\n",
       "        [ -23.8844],\n",
       "        [ 141.0923],\n",
       "        [  51.3687],\n",
       "        [ -57.5069],\n",
       "        [  18.4818],\n",
       "        [ -15.1886],\n",
       "        [ -48.1692],\n",
       "        [  95.7827],\n",
       "        [ 145.7006],\n",
       "        [  97.3841],\n",
       "        [-174.0661],\n",
       "        [  11.1969],\n",
       "        [ -18.4485],\n",
       "        [  27.5083],\n",
       "        [  95.4988],\n",
       "        [  -9.5982],\n",
       "        [ -56.3907],\n",
       "        [  30.8214],\n",
       "        [-181.5927],\n",
       "        [   4.5255],\n",
       "        [ -12.5469],\n",
       "        [ -38.9706],\n",
       "        [  83.2835],\n",
       "        [  16.4895],\n",
       "        [ -24.0096],\n",
       "        [ 133.0247],\n",
       "        [  12.0632],\n",
       "        [  27.2592],\n",
       "        [ -20.8946]])"
      ]
     },
     "execution_count": 76,
     "metadata": {},
     "output_type": "execute_result"
    }
   ],
   "source": [
    "# reshaping y:\n",
    "y = y.view(y.shape[0], 1)\n",
    "y"
   ]
  },
  {
   "cell_type": "code",
   "execution_count": 78,
   "id": "57874917-b660-4e09-8da5-c0f93e825e62",
   "metadata": {},
   "outputs": [],
   "source": [
    "# separating number of sample & number of features\n",
    "n_sample, n_feature = x.shape"
   ]
  },
  {
   "cell_type": "code",
   "execution_count": 80,
   "id": "115f1dac-c85d-4143-aeaf-8e751b9053ad",
   "metadata": {},
   "outputs": [
    {
     "data": {
      "text/plain": [
       "(100, 1)"
      ]
     },
     "execution_count": 80,
     "metadata": {},
     "output_type": "execute_result"
    }
   ],
   "source": [
    "n_sample, n_feature"
   ]
  },
  {
   "cell_type": "code",
   "execution_count": 82,
   "id": "3686c858-ea58-4db8-a1d3-b9afd60f7572",
   "metadata": {},
   "outputs": [
    {
     "data": {
      "text/plain": [
       "1"
      ]
     },
     "execution_count": 82,
     "metadata": {},
     "output_type": "execute_result"
    }
   ],
   "source": [
    "no_input_features = n_feature\n",
    "no_input_features"
   ]
  },
  {
   "cell_type": "markdown",
   "id": "a4cd8cc8-8ac5-4e03-910b-6960cf4850f3",
   "metadata": {},
   "source": [
    "# Model:"
   ]
  },
  {
   "cell_type": "code",
   "execution_count": 85,
   "id": "4ac11fc0-99e0-461a-9fca-3d5be44eca3a",
   "metadata": {},
   "outputs": [],
   "source": [
    "# In Linear case it is just single layer so we can use direct method\n",
    "\n",
    "model = nn.Linear(no_input_features, 1)   # give params are no_input_features & output"
   ]
  },
  {
   "cell_type": "code",
   "execution_count": 87,
   "id": "4ddf8e37-ddff-4384-a0b7-f437ed2c7fe4",
   "metadata": {},
   "outputs": [],
   "source": [
    "# important paramters:\n",
    "\n",
    "Learning_rate = 0.01\n",
    "epochs = 100\n",
    "\n",
    "# loss function:\n",
    "criterion = nn.MSELoss()\n",
    "\n",
    "# Optimizer:\n",
    "optimizer = torch.optim.SGD(model.parameters(), lr= Learning_rate)"
   ]
  },
  {
   "cell_type": "markdown",
   "id": "69ac275d-82bc-45b7-a738-61c5ad1d6994",
   "metadata": {},
   "source": [
    "### Traning Loop:"
   ]
  },
  {
   "cell_type": "code",
   "execution_count": 90,
   "id": "603d2bdc-ab43-4d6f-b4f2-1381d08499b9",
   "metadata": {},
   "outputs": [
    {
     "name": "stdout",
     "output_type": "stream",
     "text": [
      "Epoch: 10, Loss: 5423.4438\n",
      "Epoch: 20, Loss: 5423.4438\n",
      "Epoch: 30, Loss: 5423.4438\n",
      "Epoch: 40, Loss: 5423.4438\n",
      "Epoch: 50, Loss: 5423.4438\n",
      "Epoch: 60, Loss: 5423.4438\n",
      "Epoch: 70, Loss: 5423.4438\n",
      "Epoch: 80, Loss: 5423.4438\n",
      "Epoch: 90, Loss: 5423.4438\n",
      "Epoch: 100, Loss: 5423.4438\n"
     ]
    }
   ],
   "source": [
    "for epoch in range(epochs):\n",
    "\n",
    "    # forward pass\n",
    "    y_pred = model(x)\n",
    "\n",
    "    # loss\n",
    "    loss = criterion(y_pred, y)\n",
    "\n",
    "    # backwaord pass\n",
    "    loss.backward()\n",
    "\n",
    "    # weight update:\n",
    "    optimizer.step\n",
    "\n",
    "    # clear grad\n",
    "    optimizer.zero_grad()\n",
    "\n",
    "    if (epoch+1) % 10 ==0:\n",
    "        print( f'Epoch: {epoch+1}, Loss: {loss.item():.4f}')\n",
    "    "
   ]
  },
  {
   "cell_type": "code",
   "execution_count": null,
   "id": "e316d4e4-871e-4fc4-a34f-9babfd10dd54",
   "metadata": {},
   "outputs": [],
   "source": []
  },
  {
   "cell_type": "code",
   "execution_count": 93,
   "id": "5153e4b4-5378-4537-b850-ebcd2c8df1a8",
   "metadata": {},
   "outputs": [
    {
     "data": {
      "image/png": "[encoded data removed]",
      "text/plain": [
       "<Figure size 640x480 with 1 Axes>"
      ]
     },
     "metadata": {},
     "output_type": "display_data"
    }
   ],
   "source": [
    "# plot\n",
    "\n",
    "predicted = model(x).detach().numpy()\n",
    "\n",
    "plt.plot(x_numpy, y_numpy, 'ro')\n",
    "plt.plot(x_numpy, predicted, 'b')\n",
    "plt.show()"
   ]
  },
  {
   "cell_type": "code",
   "execution_count": null,
   "id": "e2588f79-b1cd-40ef-92a4-a2fa3bbb217e",
   "metadata": {},
   "outputs": [],
   "source": []
  }
 ],
 "metadata": {
  "kernelspec": {
   "display_name": "Python 3 (ipykernel)",
   "language": "python",
   "name": "python3"
  },
  "language_info": {
   "codemirror_mode": {
    "name": "ipython",
    "version": 3
   },
   "file_extension": ".py",
   "mimetype": "text/x-python",
   "name": "python",
   "nbconvert_exporter": "python",
   "pygments_lexer": "ipython3",
   "version": "3.12.4"
  }
 },
 "nbformat": 4,
 "nbformat_minor": 5
}
