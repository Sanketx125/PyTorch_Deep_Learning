{
 "cells": [
  {
   "cell_type": "markdown",
   "id": "eeb79147-4907-476b-a57c-dfdffca142c5",
   "metadata": {},
   "source": [
    "# Transforms:\n",
    "\n",
    "   * In PyTorch, transforms are operations that you can apply to your data, typically images, to prepare them for training your neural network. These operations can help in data preprocessing, augmentation, and normalization.\n",
    "   * We should directly apply this into our \"CustomeDataset Class\" or we can create our own class for transormatin"
   ]
  },
  {
   "cell_type": "code",
   "execution_count": 5,
   "id": "a7e6ff53-2350-4f25-b40d-c46ca2585e0f",
   "metadata": {},
   "outputs": [],
   "source": [
    "import torch\n",
    "import torchvision\n",
    "from torch.utils.data import Dataset\n",
    "import numpy as np"
   ]
  },
  {
   "cell_type": "markdown",
   "id": "4584379c-727b-43fe-86a3-434c61c803f6",
   "metadata": {},
   "source": [
    "### 1. Directly apply in CustomeDataset Class:"
   ]
  },
  {
   "cell_type": "code",
   "execution_count": 9,
   "id": "e2324996-8aa7-4f2d-8c42-93181e83f273",
   "metadata": {},
   "outputs": [],
   "source": [
    "class CustomeDataset(Dataset):\n",
    "\n",
    "    def __init__(self, featurs, labels, transform= None):\n",
    "        self.featurs = featurs\n",
    "        self.labels = labels\n",
    "        self.transform = transform\n",
    "\n",
    "    def __len__(self):\n",
    "        return len(self.featurs)\n",
    "\n",
    "    def __getitem__(self, index):\n",
    "        sample = self.featurs[index], self.labels[index]\n",
    "\n",
    "        if self.transform:\n",
    "            sample = self.transform(sample)\n",
    "\n",
    "        return sample"
   ]
  },
  {
   "cell_type": "markdown",
   "id": "df73ec6f-72db-479b-b12f-2b3232ce0b48",
   "metadata": {},
   "source": [
    "### 2. Creating Custome Transform class:"
   ]
  },
  {
   "cell_type": "code",
   "execution_count": null,
   "id": "25810be3-15ad-40cd-aa9e-4d24fcc9cfb6",
   "metadata": {},
   "outputs": [],
   "source": [
    "class ToTensor:\n",
    "\n",
    "    def __init__(self, sample):\n",
    "        self.sample = sample\n",
    "\n",
    "    def __call__(self, sample):\n",
    "        # unpacking data\n",
    "        features, lables = sample"
   ]
  }
 ],
 "metadata": {
  "kernelspec": {
   "display_name": "Python 3 (ipykernel)",
   "language": "python",
   "name": "python3"
  },
  "language_info": {
   "codemirror_mode": {
    "name": "ipython",
    "version": 3
   },
   "file_extension": ".py",
   "mimetype": "text/x-python",
   "name": "python",
   "nbconvert_exporter": "python",
   "pygments_lexer": "ipython3",
   "version": "3.12.4"
  }
 },
 "nbformat": 4,
 "nbformat_minor": 5
}
