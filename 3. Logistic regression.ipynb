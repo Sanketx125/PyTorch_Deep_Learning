{
 "cells": [
  {
   "cell_type": "code",
   "execution_count": 243,
   "id": "7c61d10d-0e9a-4b15-87dd-47e65e4d5eee",
   "metadata": {},
   "outputs": [],
   "source": [
    "import numpy as np\n",
    "import torch\n",
    "import torch.nn as nn\n",
    "import torch.optim as optim\n",
    "from sklearn import datasets\n",
    "from sklearn.preprocessing import StandardScaler\n",
    "from sklearn.model_selection import train_test_split"
   ]
  },
  {
   "cell_type": "code",
   "execution_count": 245,
   "id": "9eddbfe0-d9a1-4a8d-9634-5759111b6ac6",
   "metadata": {},
   "outputs": [],
   "source": [
    "# Preparing dataset\n",
    "\n",
    "'''this is breast cancer dataset which is binary classification problem'''\n",
    "\n",
    "bc = datasets.load_breast_cancer()\n",
    "x, y = bc.data, bc.target"
   ]
  },
  {
   "cell_type": "code",
   "execution_count": 247,
   "id": "d4382ebc-ef85-4a14-8d61-631e6eba376d",
   "metadata": {},
   "outputs": [
    {
     "data": {
      "text/plain": [
       "(569, 30)"
      ]
     },
     "execution_count": 247,
     "metadata": {},
     "output_type": "execute_result"
    }
   ],
   "source": [
    "n_samples, n_features = x.shape\n",
    "\n",
    "n_samples, n_features"
   ]
  },
  {
   "cell_type": "code",
   "execution_count": 249,
   "id": "848746e7-21bf-4da9-ad31-e9d59727e3f3",
   "metadata": {},
   "outputs": [],
   "source": [
    "# scalling data\n",
    "sc = StandardScaler()\n",
    "x = sc.fit_transform(x)"
   ]
  },
  {
   "cell_type": "code",
   "execution_count": 251,
   "id": "8caff6c0-8c58-4074-a2dc-40c7e61021a0",
   "metadata": {},
   "outputs": [],
   "source": [
    "# convert array to tensor\n",
    "\n",
    "x = torch.from_numpy(x.astype(np.float32))\n",
    "y = torch.from_numpy(y.astype(np.float32))\n",
    "\n",
    "# reshape y for (converting ouput into sinple colomn)\n",
    "\n",
    "y = y.view(y.shape[0], 1)\n"
   ]
  },
  {
   "cell_type": "code",
   "execution_count": 253,
   "id": "079a0a7f-cfd1-4929-923f-a326f2f758c1",
   "metadata": {},
   "outputs": [],
   "source": [
    "# splitting data\n",
    "\n",
    "x_train, x_test, y_train, y_test = train_test_split(x, y, test_size= 0.2, random_state= 1234)"
   ]
  },
  {
   "cell_type": "markdown",
   "id": "55697794-2df2-49cc-b10d-53dbf7eedb96",
   "metadata": {},
   "source": [
    "---\n",
    "## Model:\n",
    "\n",
    "   * y_pred = X * weights + bias\n",
    "   * sigmoid at the end."
   ]
  },
  {
   "cell_type": "code",
   "execution_count": 256,
   "id": "e2dc7f48-9bc6-4585-9f88-ea555e80df97",
   "metadata": {},
   "outputs": [],
   "source": [
    "class LogisticRegression (nn.Module):\n",
    "    \n",
    "    def __init__(self, no_features):\n",
    "        super().__init__()\n",
    "        self.model = nn.Sequential(\n",
    "\n",
    "            # single Layer\n",
    "            nn.Linear(no_features, 100),\n",
    "            nn.ReLU(),\n",
    "\n",
    "            nn.Linear(100, 10),\n",
    "            nn.ReLU(),\n",
    "\n",
    "            nn.Linear(10, 1),\n",
    "            nn.Sigmoid(),\n",
    "\n",
    "        )\n",
    "\n",
    "    def forward(self, x):\n",
    "        return self.model(x)"
   ]
  },
  {
   "cell_type": "code",
   "execution_count": 258,
   "id": "820ff726-f9f6-409f-8c1f-f9d2afcd5fb9",
   "metadata": {},
   "outputs": [],
   "source": [
    "'''Creating model object'''\n",
    "\n",
    "model = LogisticRegression(n_features)"
   ]
  },
  {
   "cell_type": "markdown",
   "id": "9c627b18-483b-4ccf-bcf9-7eee2bd8e282",
   "metadata": {},
   "source": [
    "---\n",
    "## important params:"
   ]
  },
  {
   "cell_type": "code",
   "execution_count": 261,
   "id": "eb95cf0e-171a-469f-8a1d-160ab3e38510",
   "metadata": {},
   "outputs": [],
   "source": [
    "# loss function:\n",
    "criterion = nn.BCELoss()\n",
    "\n",
    "# Optimizer\n",
    "learning_rate = 0.1\n",
    "optimizer = optim.SGD(model.parameters(), lr= learning_rate)"
   ]
  },
  {
   "cell_type": "markdown",
   "id": "8ff49743-5ad2-40e5-970d-3db40f61396a",
   "metadata": {},
   "source": [
    "---\n",
    "## Training Loop:"
   ]
  },
  {
   "cell_type": "code",
   "execution_count": 264,
   "id": "6f30655c-9a28-4a0a-8d9b-e3ee538cf1e8",
   "metadata": {},
   "outputs": [
    {
     "name": "stdout",
     "output_type": "stream",
     "text": [
      "Epoch: 1, Loss: 0.6705299019813538\n",
      "Epoch: 2, Loss: 0.6705299019813538\n",
      "Epoch: 3, Loss: 0.6705299019813538\n",
      "Epoch: 4, Loss: 0.6705299019813538\n",
      "Epoch: 5, Loss: 0.6705299019813538\n",
      "Epoch: 6, Loss: 0.6705299019813538\n",
      "Epoch: 7, Loss: 0.6705299019813538\n",
      "Epoch: 8, Loss: 0.6705299019813538\n",
      "Epoch: 9, Loss: 0.6705299019813538\n",
      "Epoch: 10, Loss: 0.6705299019813538\n",
      "Epoch: 11, Loss: 0.6705299019813538\n",
      "Epoch: 12, Loss: 0.6705299019813538\n",
      "Epoch: 13, Loss: 0.6705299019813538\n",
      "Epoch: 14, Loss: 0.6705299019813538\n",
      "Epoch: 15, Loss: 0.6705299019813538\n",
      "Epoch: 16, Loss: 0.6705299019813538\n",
      "Epoch: 17, Loss: 0.6705299019813538\n",
      "Epoch: 18, Loss: 0.6705299019813538\n",
      "Epoch: 19, Loss: 0.6705299019813538\n",
      "Epoch: 20, Loss: 0.6705299019813538\n",
      "Epoch: 21, Loss: 0.6705299019813538\n",
      "Epoch: 22, Loss: 0.6705299019813538\n",
      "Epoch: 23, Loss: 0.6705299019813538\n",
      "Epoch: 24, Loss: 0.6705299019813538\n",
      "Epoch: 25, Loss: 0.6705299019813538\n",
      "Epoch: 26, Loss: 0.6705299019813538\n",
      "Epoch: 27, Loss: 0.6705299019813538\n",
      "Epoch: 28, Loss: 0.6705299019813538\n",
      "Epoch: 29, Loss: 0.6705299019813538\n",
      "Epoch: 30, Loss: 0.6705299019813538\n",
      "Epoch: 31, Loss: 0.6705299019813538\n",
      "Epoch: 32, Loss: 0.6705299019813538\n",
      "Epoch: 33, Loss: 0.6705299019813538\n",
      "Epoch: 34, Loss: 0.6705299019813538\n",
      "Epoch: 35, Loss: 0.6705299019813538\n",
      "Epoch: 36, Loss: 0.6705299019813538\n",
      "Epoch: 37, Loss: 0.6705299019813538\n",
      "Epoch: 38, Loss: 0.6705299019813538\n",
      "Epoch: 39, Loss: 0.6705299019813538\n",
      "Epoch: 40, Loss: 0.6705299019813538\n",
      "Epoch: 41, Loss: 0.6705299019813538\n",
      "Epoch: 42, Loss: 0.6705299019813538\n",
      "Epoch: 43, Loss: 0.6705299019813538\n",
      "Epoch: 44, Loss: 0.6705299019813538\n",
      "Epoch: 45, Loss: 0.6705299019813538\n",
      "Epoch: 46, Loss: 0.6705299019813538\n",
      "Epoch: 47, Loss: 0.6705299019813538\n",
      "Epoch: 48, Loss: 0.6705299019813538\n",
      "Epoch: 49, Loss: 0.6705299019813538\n",
      "Epoch: 50, Loss: 0.6705299019813538\n",
      "Epoch: 51, Loss: 0.6705299019813538\n",
      "Epoch: 52, Loss: 0.6705299019813538\n",
      "Epoch: 53, Loss: 0.6705299019813538\n",
      "Epoch: 54, Loss: 0.6705299019813538\n",
      "Epoch: 55, Loss: 0.6705299019813538\n",
      "Epoch: 56, Loss: 0.6705299019813538\n",
      "Epoch: 57, Loss: 0.6705299019813538\n",
      "Epoch: 58, Loss: 0.6705299019813538\n",
      "Epoch: 59, Loss: 0.6705299019813538\n",
      "Epoch: 60, Loss: 0.6705299019813538\n",
      "Epoch: 61, Loss: 0.6705299019813538\n",
      "Epoch: 62, Loss: 0.6705299019813538\n",
      "Epoch: 63, Loss: 0.6705299019813538\n",
      "Epoch: 64, Loss: 0.6705299019813538\n",
      "Epoch: 65, Loss: 0.6705299019813538\n",
      "Epoch: 66, Loss: 0.6705299019813538\n",
      "Epoch: 67, Loss: 0.6705299019813538\n",
      "Epoch: 68, Loss: 0.6705299019813538\n",
      "Epoch: 69, Loss: 0.6705299019813538\n",
      "Epoch: 70, Loss: 0.6705299019813538\n",
      "Epoch: 71, Loss: 0.6705299019813538\n",
      "Epoch: 72, Loss: 0.6705299019813538\n",
      "Epoch: 73, Loss: 0.6705299019813538\n",
      "Epoch: 74, Loss: 0.6705299019813538\n",
      "Epoch: 75, Loss: 0.6705299019813538\n",
      "Epoch: 76, Loss: 0.6705299019813538\n",
      "Epoch: 77, Loss: 0.6705299019813538\n",
      "Epoch: 78, Loss: 0.6705299019813538\n",
      "Epoch: 79, Loss: 0.6705299019813538\n",
      "Epoch: 80, Loss: 0.6705299019813538\n",
      "Epoch: 81, Loss: 0.6705299019813538\n",
      "Epoch: 82, Loss: 0.6705299019813538\n",
      "Epoch: 83, Loss: 0.6705299019813538\n",
      "Epoch: 84, Loss: 0.6705299019813538\n",
      "Epoch: 85, Loss: 0.6705299019813538\n",
      "Epoch: 86, Loss: 0.6705299019813538\n",
      "Epoch: 87, Loss: 0.6705299019813538\n",
      "Epoch: 88, Loss: 0.6705299019813538\n",
      "Epoch: 89, Loss: 0.6705299019813538\n",
      "Epoch: 90, Loss: 0.6705299019813538\n",
      "Epoch: 91, Loss: 0.6705299019813538\n",
      "Epoch: 92, Loss: 0.6705299019813538\n",
      "Epoch: 93, Loss: 0.6705299019813538\n",
      "Epoch: 94, Loss: 0.6705299019813538\n",
      "Epoch: 95, Loss: 0.6705299019813538\n",
      "Epoch: 96, Loss: 0.6705299019813538\n",
      "Epoch: 97, Loss: 0.6705299019813538\n",
      "Epoch: 98, Loss: 0.6705299019813538\n",
      "Epoch: 99, Loss: 0.6705299019813538\n",
      "Epoch: 100, Loss: 0.6705299019813538\n"
     ]
    }
   ],
   "source": [
    "epochs = 100\n",
    "\n",
    "for epoch in range(epochs):\n",
    "    \n",
    "    # forward pass\n",
    "    y_pred = model(x_train)\n",
    "\n",
    "    # loss\n",
    "    loss = criterion(y_pred, y_train)\n",
    "\n",
    "    # backward pass\n",
    "    optimizer.zero_grad()\n",
    "    loss.backward\n",
    "\n",
    "    # weight updates\n",
    "    optimizer.step()\n",
    "\n",
    "\n",
    "    print(f'Epoch: {epoch+1}, Loss: {loss.item()}')"
   ]
  },
  {
   "cell_type": "markdown",
   "id": "7280daa4-ece2-452e-9c15-f296d11c3099",
   "metadata": {},
   "source": [
    "---\n",
    "## Model Evaluation:"
   ]
  },
  {
   "cell_type": "code",
   "execution_count": 267,
   "id": "1af3881e-85b4-49ea-8e08-0893cbc4ccd0",
   "metadata": {},
   "outputs": [
    {
     "data": {
      "text/plain": [
       "LogisticRegression(\n",
       "  (model): Sequential(\n",
       "    (0): Linear(in_features=30, out_features=100, bias=True)\n",
       "    (1): ReLU()\n",
       "    (2): Linear(in_features=100, out_features=10, bias=True)\n",
       "    (3): ReLU()\n",
       "    (4): Linear(in_features=10, out_features=1, bias=True)\n",
       "    (5): Sigmoid()\n",
       "  )\n",
       ")"
      ]
     },
     "execution_count": 267,
     "metadata": {},
     "output_type": "execute_result"
    }
   ],
   "source": [
    "model.eval()"
   ]
  },
  {
   "cell_type": "code",
   "execution_count": 269,
   "id": "ffc7c85d-5f6d-4231-9156-9038b3e2766d",
   "metadata": {},
   "outputs": [
    {
     "name": "stdout",
     "output_type": "stream",
     "text": [
      "Accuracy:  79.8245620727539\n"
     ]
    }
   ],
   "source": [
    "with torch.no_grad():\n",
    "    y_pred = model(x_test)\n",
    "    y_pred_cls = y_pred.round()\n",
    "    accuracy = (y_pred_cls.eq(y_test).sum() / float(y_test.shape[0]))*100\n",
    "    print('Accuracy: ', accuracy.item())"
   ]
  },
  {
   "cell_type": "code",
   "execution_count": null,
   "id": "b56e1249-956c-4f2f-b064-4af79a0420e8",
   "metadata": {},
   "outputs": [],
   "source": []
  },
  {
   "cell_type": "code",
   "execution_count": null,
   "id": "88b5c65f-9fc8-4b06-abfd-53649ebf8f74",
   "metadata": {},
   "outputs": [],
   "source": []
  },
  {
   "cell_type": "code",
   "execution_count": null,
   "id": "f5005bf9-4ec6-476c-8b0b-616c46eae220",
   "metadata": {},
   "outputs": [],
   "source": []
  }
 ],
 "metadata": {
  "kernelspec": {
   "display_name": "Python 3 (ipykernel)",
   "language": "python",
   "name": "python3"
  },
  "language_info": {
   "codemirror_mode": {
    "name": "ipython",
    "version": 3
   },
   "file_extension": ".py",
   "mimetype": "text/x-python",
   "name": "python",
   "nbconvert_exporter": "python",
   "pygments_lexer": "ipython3",
   "version": "3.12.4"
  }
 },
 "nbformat": 4,
 "nbformat_minor": 5
}
