{
 "cells": [
  {
   "cell_type": "markdown",
   "id": "ca1cf0ce-1a9a-4f05-a904-7584806579c6",
   "metadata": {},
   "source": [
    "# Trainig Pipeline:\n",
    "\n",
    "#### Steps :\n",
    "          1. Design Model (input, Output_size, Forward Pass)\n",
    "          2. Construct Loss & Optimizer\n",
    "          3. Training Loop:\n",
    "                       - Forward pass (comput prediction)\n",
    "                       - backward pass (gradients)\n",
    "                       - updates weights"
   ]
  },
  {
   "cell_type": "code",
   "execution_count": null,
   "id": "891e3e2e-ae82-493f-bb78-97081ea4bf4b",
   "metadata": {},
   "outputs": [],
   "source": []
  }
 ],
 "metadata": {
  "kernelspec": {
   "display_name": "Python 3 (ipykernel)",
   "language": "python",
   "name": "python3"
  },
  "language_info": {
   "codemirror_mode": {
    "name": "ipython",
    "version": 3
   },
   "file_extension": ".py",
   "mimetype": "text/x-python",
   "name": "python",
   "nbconvert_exporter": "python",
   "pygments_lexer": "ipython3",
   "version": "3.12.4"
  }
 },
 "nbformat": 4,
 "nbformat_minor": 5
}
